{
 "cells": [
  {
   "cell_type": "code",
   "execution_count": 1,
   "metadata": {
    "collapsed": false
   },
   "outputs": [
    {
     "name": "stderr",
     "output_type": "stream",
     "text": [
      "/Users/TimScholes/anaconda/lib/python3.5/site-packages/skimage/filter/__init__.py:6: skimage_deprecation: The `skimage.filter` module has been renamed to `skimage.filters`.  This placeholder module will be removed in v0.13.\n",
      "  warn(skimage_deprecation('The `skimage.filter` module has been renamed '\n"
     ]
    }
   ],
   "source": [
    "%matplotlib inline\n",
    "import matplotlib.pyplot as plt\n",
    "import matplotlib.image as mpimg\n",
    "import numpy as np\n",
    "import cv2\n",
    "\n",
    "# Import everything needed to edit/save/watch video clips\n",
    "from moviepy.editor import VideoFileClip\n",
    "from IPython.display import HTML"
   ]
  },
  {
   "cell_type": "code",
   "execution_count": 2,
   "metadata": {
    "collapsed": true
   },
   "outputs": [],
   "source": [
    "# Some global variables for smoothing\n",
    "x_bottom_left_main_prev = 0\n",
    "x_middle_left_main_prev = 0\n",
    "x_bottom_right_main_prev = 0\n",
    "x_middle_right_main_prev = 0\n",
    "counter = 0"
   ]
  },
  {
   "cell_type": "code",
   "execution_count": 5,
   "metadata": {
    "collapsed": false
   },
   "outputs": [],
   "source": [
    "def process_image(image):\n",
    "\n",
    "    gray = cv2.cvtColor(image,cv2.COLOR_RGB2GRAY)\n",
    "\n",
    "    # Define a kernel size and apply Gaussian smoothing\n",
    "    ######kernel_size = 5\n",
    "    kernel_size = 5\n",
    "    blur_gray = cv2.GaussianBlur(gray,(kernel_size, kernel_size),0)\n",
    "\n",
    "    # Define our parameters for Canny and apply\n",
    "    low_threshold = 50\n",
    "    high_threshold = 150\n",
    "    edges = cv2.Canny(blur_gray, low_threshold, high_threshold)\n",
    "\n",
    "    # Next we'll create a masked edges image using cv2.fillPoly()\n",
    "    mask = np.zeros_like(edges)   \n",
    "    ignore_mask_color = 255   \n",
    "\n",
    "    # This time we are defining a four sided polygon to mask\n",
    "    imshape = image.shape\n",
    "    ##vertices = np.array([[(0,imshape[0]),(0, 0), (imshape[1], 0), (imshape[1],imshape[0])]], dtype=np.int32)\n",
    "    ##########vertices = np.array([[(0,imshape[0]),(450, 290), (490, 290), (imshape[1],imshape[0])]], dtype=np.int32)\n",
    "    vertices = np.array([[(100,imshape[0]),(470, 305), (470, 305), (970,imshape[0])]], dtype=np.int32)\n",
    "    cv2.fillPoly(mask, vertices, ignore_mask_color)\n",
    "    masked_edges = cv2.bitwise_and(edges, mask)\n",
    "\n",
    "    # Define the Hough transform parameters\n",
    "    # Make a blank the same size as our image to draw on\n",
    "    rho = 2 # distance resolution in pixels of the Hough grid\n",
    "    theta = np.pi/180 # angular resolution in radians of the Hough grid\n",
    "    threshold = 15     # minimum number of votes (intersections in Hough grid cell)\n",
    "    ######min_line_length = 40 #minimum number of pixels making up a line\n",
    "    min_line_length = 70 #minimum number of pixels making up a line\n",
    "    #######max_line_gap = 20    # maximum gap in pixels between connectable line segments\n",
    "    max_line_gap = 30    # maximum gap in pixels between connectable line segments\n",
    "    line_image = np.copy(image)*0 # creating a blank to draw lines on\n",
    "\n",
    "    # Run Hough on edge detected image\n",
    "    # Output \"lines\" is an array containing endpoints of detected line segments\n",
    "    lines = cv2.HoughLinesP(masked_edges, rho, theta, threshold, np.array([]),\n",
    "                                min_line_length, max_line_gap)\n",
    "\n",
    "####################################################################################\n",
    "# Iterate over the output \"lines\" and draw lines on a blank image\n",
    "#     for line in lines:\n",
    "#         for x1,y1,x2,y2 in line:\n",
    "#            cv2.line(line_image,(x1,y1),(x2,y2),(255,0,0),10)\n",
    "\n",
    "    # Variables\n",
    "    \n",
    "    left_side_counter = 0\n",
    "    right_side_counter = 0\n",
    "\n",
    "    x_bottom_left_total = 0\n",
    "    x_middle_left_total = 0\n",
    "    x_bottom_left_main = 0\n",
    "    x_middle_left_main = 0\n",
    "\n",
    "    x_bottom_right_total = 0\n",
    "    x_middle_right_total = 0\n",
    "    x_bottom_right_main = 0\n",
    "    x_middle_right_main = 0\n",
    "    \n",
    "    for line in lines:\n",
    "        for x1,y1,x2,y2 in line:\n",
    "            \n",
    "            gradient = ((y2-y1)/(x2-x1))\n",
    "            if gradient == 0:\n",
    "                continue\n",
    "                 \n",
    "            ## new line: y-mx=b\n",
    "            intercept = y1 - gradient*x1\n",
    "\n",
    "            # find x when y at full extent - point 1 = (x, imshape[0])\n",
    "            x_bottom = int((imshape[0] - intercept)/gradient)\n",
    "\n",
    "            # find x when y at perspective limit - point 1 = (x, 390)\n",
    "            x_middle = int((350 - intercept)/gradient)\n",
    "            \n",
    "            ##if gradient > 0:\n",
    "            if gradient > 0.5 and gradient < 0.85:    \n",
    "                x_bottom_left_total += x_bottom\n",
    "                x_middle_left_total += x_middle\n",
    "                left_side_counter += 1 \n",
    "            elif gradient < -0.5 and gradient > -0.85:\n",
    "                x_bottom_right_total += x_bottom\n",
    "                x_middle_right_total += x_middle\n",
    "                right_side_counter += 1\n",
    "\n",
    "    global counter\n",
    "    global x_bottom_left_main_prev\n",
    "    global x_middle_left_main_prev\n",
    "    global x_bottom_right_main_prev\n",
    "    global x_middle_right_main_prev\n",
    "                       \n",
    "    #print('global = {}'.format(counter))\n",
    "    \n",
    "    # left line\n",
    "    if left_side_counter > 0:\n",
    "        if counter > 0:\n",
    "            x_bottom_left_main = (int(x_bottom_left_total/left_side_counter)+ x_bottom_left_main_prev)//2\n",
    "            x_middle_left_main = (int(x_middle_left_total/left_side_counter)+ x_middle_left_main_prev)//2\n",
    "        else:\n",
    "            x_bottom_left_main = int(x_bottom_left_total/left_side_counter)\n",
    "            x_middle_left_main = int(x_middle_left_total/left_side_counter)\n",
    "            \n",
    "        cv2.line(line_image,(x_bottom_left_main, imshape[0]),(x_middle_left_main, 350),(255,50,0),30)\n",
    "        x_bottom_left_main_prev = x_bottom_left_main\n",
    "        x_middle_left_main_prev = x_middle_left_main\n",
    "        counter += 1 \n",
    "\n",
    "    # right line\n",
    "    if right_side_counter > 0:\n",
    "        if counter > 0:\n",
    "            x_bottom_right_main = int(x_bottom_right_total/right_side_counter)\n",
    "            x_middle_right_main = int(x_middle_right_total/right_side_counter)\n",
    "        else:\n",
    "            x_bottom_right_main = int(x_bottom_right_total/right_side_counter)\n",
    "            x_middle_right_main = int(x_middle_right_total/right_side_counter)\n",
    "        \n",
    "        cv2.line(line_image,(x_bottom_right_main, imshape[0]),(x_middle_right_main, 350),(255,50,0),30)  \n",
    "        x_bottom_right_main_prev = x_bottom_left_main\n",
    "        x_middle_right_main_prev = x_middle_left_main\n",
    "        counter += 1 \n",
    "                \n",
    "####################################################################################   \n",
    "\n",
    "    # Create a \"color\" binary image to combine with line image\n",
    "    color_edges = np.dstack((edges, edges, edges)) \n",
    "\n",
    "    # Draw the lines on the edge image\n",
    "    new_image = cv2.addWeighted(image, 0.8, line_image, 1, 0) \n",
    "\n",
    "    return new_image"
   ]
  },
  {
   "cell_type": "code",
   "execution_count": 7,
   "metadata": {
    "collapsed": false
   },
   "outputs": [
    {
     "name": "stdout",
     "output_type": "stream",
     "text": [
      "\n",
      "MoviePy: building video file solidWhiteRight_output_1.mp4\n",
      "----------------------------------------\n",
      "\n",
      "Writing video into solidWhiteRight_output_1.mp4\n",
      "|----------| 0/213   0% [elapsed: 00:00 left: ?, ? iters/sec]"
     ]
    },
    {
     "name": "stderr",
     "output_type": "stream",
     "text": [
      "/Users/TimScholes/anaconda/lib/python3.5/site-packages/moviepy/audio/io/readers.py:110: VisibleDeprecationWarning: using a non-integer number instead of an integer will result in an error in the future\n",
      "  self.nchannels))\n"
     ]
    },
    {
     "name": "stdout",
     "output_type": "stream",
     "text": [
      "Done writing video in solidWhiteRight_output_1.mp4 !\n",
      "Your video is ready !\n",
      "CPU times: user 3.06 s, sys: 804 ms, total: 3.86 s\n",
      "Wall time: 6.13 s\n"
     ]
    }
   ],
   "source": [
    "final_output = 'solidWhiteRight_output_1.mp4'\n",
    "clip1 = VideoFileClip(\"solidWhiteRight.mp4\")\n",
    "final_clip = clip1.fl_image(process_image) #NOTE: this function expects color images!!\n",
    "%time final_clip.write_videofile(final_output, audio=False)"
   ]
  },
  {
   "cell_type": "code",
   "execution_count": null,
   "metadata": {
    "collapsed": true
   },
   "outputs": [],
   "source": []
  }
 ],
 "metadata": {
  "anaconda-cloud": {},
  "kernelspec": {
   "display_name": "Python [Root]",
   "language": "python",
   "name": "Python [Root]"
  },
  "language_info": {
   "codemirror_mode": {
    "name": "ipython",
    "version": 3
   },
   "file_extension": ".py",
   "mimetype": "text/x-python",
   "name": "python",
   "nbconvert_exporter": "python",
   "pygments_lexer": "ipython3",
   "version": "3.5.3"
  }
 },
 "nbformat": 4,
 "nbformat_minor": 0
}
